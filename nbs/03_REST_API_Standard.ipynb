{
 "cells": [
  {
   "cell_type": "markdown",
   "id": "dc50d2bd-8244-4932-8aca-840896280efc",
   "metadata": {},
   "source": [
    "# REST API Standard\n",
    "\n",
    "> A **REST (Representational State Transfer)** API is an architectural style for building web services that use HTTP to access and manipulate resources, typically in a stateless, client-server setup.\n",
    "\n",
    "\n",
    "- skip_showdoc: true\n",
    "- skip_exec: true"
   ]
  },
  {
   "cell_type": "markdown",
   "id": "f7a19a1a-22bb-4afd-91dd-c47b0bc8ceb0",
   "metadata": {},
   "source": [
    "## 🔧 1. **What is a REST API?**\n",
    "\n",
    "\n",
    "### 🌐 Key Characteristics:\n",
    "\n",
    "| Principle             | Description                                                                |\n",
    "| --------------------- | -------------------------------------------------------------------------- |\n",
    "| **Stateless**         | Each request contains all information needed (no session state on server). |\n",
    "| **Client-server**     | Frontend and backend are decoupled.                                        |\n",
    "| **Cacheable**         | Responses can be cached where appropriate.                                 |\n",
    "| **Uniform interface** | Standardized resource access via HTTP verbs.                               |\n",
    "| **Layered system**    | Intermediary layers (e.g., load balancers, caches) are allowed.            |\n",
    "| **Code on demand**    | (Optional) Clients can download and execute code from the server.          |\n",
    "\n",
    "---"
   ]
  },
  {
   "cell_type": "markdown",
   "id": "e9386ec0-6dbe-4825-ac0f-a9414c81f42d",
   "metadata": {},
   "source": [
    "## 🚀 2. **Standard HTTP Methods in REST**\n",
    "\n",
    "| HTTP Method | Usage            | Example             |\n",
    "| ----------- | ---------------- | ------------------- |\n",
    "| `GET`       | Read             | `GET /users/123`    |\n",
    "| `POST`      | Create           | `POST /users`       |\n",
    "| `PUT`       | Replace (full)   | `PUT /users/123`    |\n",
    "| `PATCH`     | Update (partial) | `PATCH /users/123`  |\n",
    "| `DELETE`    | Delete           | `DELETE /users/123` |\n",
    "\n",
    "---"
   ]
  },
  {
   "cell_type": "markdown",
   "id": "4bcec40b-3ff9-4b8e-bede-4c6e1d06b31a",
   "metadata": {},
   "source": [
    "## 📂 3. **URI Naming Conventions**\n",
    "\n",
    "* Use **nouns**, not verbs:\n",
    "  ✅ `GET /users`\n",
    "  ❌ `GET /getUsers`\n",
    "\n",
    "* Use **plural** resource names:\n",
    "  ✅ `/books`\n",
    "  ❌ `/book`\n",
    "\n",
    "* Nest relationships:\n",
    "  `GET /users/123/orders` → orders for a user\n",
    "\n",
    "* Use query parameters for filtering:\n",
    "  `/books?genre=sci-fi&author=asimov`\n",
    "\n",
    "---"
   ]
  },
  {
   "cell_type": "markdown",
   "id": "3ec4409a-8f77-40cc-a38d-571d22f6596f",
   "metadata": {},
   "source": [
    "## ✅ 4. **Status Codes**\n",
    "\n",
    "| Code | Meaning               | When to Use                           |\n",
    "| ---- | --------------------- | ------------------------------------- |\n",
    "| 200  | OK                    | GET, PUT, PATCH success               |\n",
    "| 201  | Created               | Successful resource creation (POST)   |\n",
    "| 204  | No Content            | DELETE or PUT success with no body    |\n",
    "| 400  | Bad Request           | Malformed request or validation error |\n",
    "| 401  | Unauthorized          | Auth needed                           |\n",
    "| 403  | Forbidden             | Auth provided but access denied       |\n",
    "| 404  | Not Found             | Resource doesn't exist                |\n",
    "| 409  | Conflict              | Duplicate or conflicting state        |\n",
    "| 500  | Internal Server Error | Unhandled server error                |\n",
    "\n",
    "---"
   ]
  },
  {
   "cell_type": "markdown",
   "id": "63a9e437-954f-40e4-99f5-76188a622ee5",
   "metadata": {},
   "source": [
    "## 🧪 5. **Request & Response Structure**\n",
    "\n",
    "### JSON Request:\n",
    "\n",
    "```json\n",
    "POST /users\n",
    "{\n",
    "  \"email\": \"user@example.com\",\n",
    "  \"password\": \"secure123\"\n",
    "}\n",
    "```\n",
    "\n",
    "### JSON Response (Success):\n",
    "\n",
    "```json\n",
    "{\n",
    "  \"id\": 1,\n",
    "  \"email\": \"user@example.com\",\n",
    "  \"created_at\": \"2025-06-17T10:00:00Z\"\n",
    "}\n",
    "```\n",
    "\n",
    "### JSON Response (Error):\n",
    "\n",
    "```json\n",
    "{\n",
    "  \"error\": \"ValidationError\",\n",
    "  \"message\": \"Email already exists\"\n",
    "}\n",
    "```\n",
    "\n",
    "---"
   ]
  },
  {
   "cell_type": "markdown",
   "id": "460d5695-ae34-4704-9cf4-f2d23e74295b",
   "metadata": {},
   "source": [
    "## 🔐 6. **Authentication & Security**\n",
    "\n",
    "* Use **HTTPS** only.\n",
    "* Prefer **JWT** or **OAuth 2.0** for authentication.\n",
    "* Use **rate limiting** to prevent abuse.\n",
    "* Validate and sanitize all input to avoid **injection attacks**.\n",
    "\n",
    "---"
   ]
  },
  {
   "cell_type": "markdown",
   "id": "5ee1eb0c-0b83-48f0-9d2a-d789c3a9b1fe",
   "metadata": {},
   "source": [
    "## 📋 7. **Versioning**\n",
    "\n",
    "Best options:\n",
    "\n",
    "* URL-based: `/v1/users`\n",
    "* Header-based: `Accept: application/vnd.myapi.v1+json`\n",
    "\n",
    "> ✅ Avoid breaking changes without versioning.\n",
    "\n",
    "---"
   ]
  },
  {
   "cell_type": "markdown",
   "id": "f946b67a-d0bd-452d-b334-102f1b177966",
   "metadata": {},
   "source": [
    "## 📊 8. **Filtering, Sorting, Pagination**\n",
    "\n",
    "| Feature    | Query Format Example                    |\n",
    "| ---------- | --------------------------------------- |\n",
    "| Filtering  | `/products?category=clothing&color=red` |\n",
    "| Sorting    | `/products?sort=-price` (descending)    |\n",
    "| Pagination | `/products?page=2&page_size=50`         |\n",
    "\n",
    "---"
   ]
  },
  {
   "cell_type": "markdown",
   "id": "e5e566dc-9e5e-4957-b74c-ca4cf3af3f73",
   "metadata": {},
   "source": [
    "## 🔄 9. **HATEOAS (Optional Advanced)**\n",
    "\n",
    "Hypermedia as the Engine of Application State:\n",
    "\n",
    "```json\n",
    "{\n",
    "  \"id\": 123,\n",
    "  \"name\": \"Example\",\n",
    "  \"_links\": {\n",
    "    \"self\": { \"href\": \"/items/123\" },\n",
    "    \"next\": { \"href\": \"/items/124\" }\n",
    "  }\n",
    "}\n",
    "```\n",
    "\n",
    "Not widely used, but adheres to pure REST principles.\n",
    "\n",
    "---"
   ]
  },
  {
   "cell_type": "markdown",
   "id": "fa416217-d55e-49ed-b234-77bea27e209f",
   "metadata": {},
   "source": [
    "## 🧱 10. **OpenAPI / Swagger**\n",
    "\n",
    "Document your API:\n",
    "\n",
    "* Generate interactive docs\n",
    "* Example:\n",
    "\n",
    "```yaml\n",
    "paths:\n",
    "  /users:\n",
    "    get:\n",
    "      summary: Get all users\n",
    "      responses:\n",
    "        '200':\n",
    "          description: OK\n",
    "```\n",
    "\n",
    "Tools: Swagger UI, Redoc, Postman\n",
    "\n",
    "---"
   ]
  },
  {
   "cell_type": "markdown",
   "id": "b3cdc7c1-ab8b-4ff7-9e43-1c8447d24438",
   "metadata": {},
   "source": [
    "## 📈 11. **Forward-Thinking & Modern Additions**\n",
    "\n",
    "| Concept           | Description                                           |\n",
    "| ----------------- | ----------------------------------------------------- |\n",
    "| **GraphQL**       | Alternative to REST for complex querying needs        |\n",
    "| **gRPC**          | High-performance, binary protocol                     |\n",
    "| **REST + Events** | Use Webhooks or Server-Sent Events alongside REST     |\n",
    "| **JSON\\:API**     | Strict REST format standard (`https://jsonapi.org/`)  |\n",
    "| **Async APIs**    | For microservices, combine REST with messaging queues |\n",
    "\n",
    "---"
   ]
  },
  {
   "cell_type": "markdown",
   "id": "b3408cf8-a17c-4d86-a462-469da772a643",
   "metadata": {},
   "source": [
    "## 🛠️ 12. **Example Project Structure**\n",
    "\n",
    "```\n",
    "/api\n",
    "  /v1\n",
    "    users/\n",
    "      views.py\n",
    "      serializers.py\n",
    "      urls.py\n",
    "      models.py\n",
    "/tests\n",
    "/docs\n",
    "```\n",
    "\n",
    "---"
   ]
  },
  {
   "cell_type": "markdown",
   "id": "15b23141-1972-4dc7-978c-500f0401d81b",
   "metadata": {},
   "source": [
    "## 📌 Summary Table\n",
    "\n",
    "| Area         | Standard Practice                         |\n",
    "| ------------ | ----------------------------------------- |\n",
    "| HTTP Methods | Use GET, POST, PUT, PATCH, DELETE         |\n",
    "| URIs         | Use nouns, plurals, nested resources      |\n",
    "| Auth         | JWT, OAuth2, HTTPS                        |\n",
    "| Responses    | Consistent JSON + meaningful status codes |\n",
    "| Docs         | Use OpenAPI/Swagger                       |\n",
    "| Versioning   | URL or Header-based                       |\n",
    "| Pagination   | Offset or cursor-based                    |\n"
   ]
  },
  {
   "cell_type": "code",
   "execution_count": null,
   "id": "69b2803c-c272-4faf-b877-1074975c6a46",
   "metadata": {},
   "outputs": [],
   "source": []
  },
  {
   "cell_type": "code",
   "execution_count": null,
   "id": "c00f0b29-494a-45d8-8ba8-42a368231ab0",
   "metadata": {},
   "outputs": [],
   "source": []
  }
 ],
 "metadata": {
  "kernelspec": {
   "display_name": "python3",
   "language": "python",
   "name": "python3"
  }
 },
 "nbformat": 4,
 "nbformat_minor": 5
}
