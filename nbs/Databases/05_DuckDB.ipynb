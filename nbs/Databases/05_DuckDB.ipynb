{
 "cells": [
  {
   "cell_type": "markdown",
   "id": "68d6ddc2-43a0-4a10-bcfe-2109fa29e631",
   "metadata": {},
   "source": [
    "# DuckDB\n",
    "\n",
    "> DuckDB\n",
    "\n",
    "- skip_showdoc: true\n",
    "- skip_exec: true"
   ]
  },
  {
   "cell_type": "code",
   "execution_count": null,
   "id": "4798740d-01b9-44d5-9a69-fe1e8ae7579d",
   "metadata": {},
   "outputs": [],
   "source": []
  }
 ],
 "metadata": {
  "kernelspec": {
   "display_name": "python3",
   "language": "python",
   "name": "python3"
  }
 },
 "nbformat": 4,
 "nbformat_minor": 5
}
