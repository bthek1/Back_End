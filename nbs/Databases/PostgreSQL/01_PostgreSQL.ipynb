{
 "cells": [
  {
   "cell_type": "markdown",
   "id": "d115cf3c-3011-46ee-ab57-74383aee46e2",
   "metadata": {},
   "source": [
    "# PostgreSQL Overview\n",
    "\n",
    "> Here’s a comprehensive, forward-thinking overview of **PostgreSQL’s database structure**, with diagrams, examples, and best practices.\n",
    "\n",
    "\n",
    "- skip_showdoc: true\n",
    "- skip_exec: true"
   ]
  },
  {
   "cell_type": "markdown",
   "id": "7accf883-61a9-4fc9-a74f-a5196a7e4db5",
   "metadata": {},
   "source": [
    "---\n",
    "\n",
    "## 🧠 1. **PostgreSQL Architecture Overview**\n",
    "\n",
    "```\n",
    "Cluster → Databases → Schemas → Tables → Columns\n",
    "                        ↘      ↘\n",
    "                       Views   Functions\n",
    "```\n",
    "\n",
    "| Layer        | Description                                              |\n",
    "| ------------ | -------------------------------------------------------- |\n",
    "| **Cluster**  | The entire PostgreSQL server instance (1+ databases)     |\n",
    "| **Database** | A single logical database (separate namespaces)          |\n",
    "| **Schema**   | Logical grouping inside a database (`public` by default) |\n",
    "| **Table**    | Actual data storage (rows and columns)                   |\n",
    "| **Column**   | Field in a table with a data type                        |\n",
    "| **Row**      | A record (tuple) in a table                              |\n",
    "| **Index**    | Improves lookup speed                                    |\n",
    "| **View**     | Saved SQL query (virtual table)                          |\n",
    "| **Function** | Procedural logic (in PL/pgSQL, SQL, Python, etc.)        |\n",
    "\n",
    "---"
   ]
  },
  {
   "cell_type": "markdown",
   "id": "920323f3-e42b-473d-940a-d2196e8b3c8f",
   "metadata": {},
   "source": [
    "## 🗂 2. **Directory Hierarchy (Linux/Unix)**\n",
    "\n",
    "| Directory    | Description                           |\n",
    "| ------------ | ------------------------------------- |\n",
    "| `pg_data/`   | Base directory                        |\n",
    "| `base/`      | Actual database data files            |\n",
    "| `pg_wal/`    | Write-Ahead Logs                      |\n",
    "| `pg_tblspc/` | Tablespace links                      |\n",
    "| `global/`    | Global metadata (roles, transactions) |\n",
    "\n",
    "---"
   ]
  },
  {
   "cell_type": "markdown",
   "id": "1c862dd5-db0e-4a7d-aa99-5cc0923c26a1",
   "metadata": {},
   "source": [
    "## 🔢 3. **Data Types**\n",
    "\n",
    "| Type Category     | Examples                            |\n",
    "| ----------------- | ----------------------------------- |\n",
    "| Numeric           | `int`, `float`, `decimal`, `serial` |\n",
    "| Character         | `char(n)`, `varchar(n)`, `text`     |\n",
    "| Temporal          | `date`, `timestamp`, `interval`     |\n",
    "| Boolean           | `boolean`                           |\n",
    "| UUID              | `uuid`                              |\n",
    "| Array             | `integer[]`, `text[]`               |\n",
    "| JSON/Binary       | `json`, `jsonb`, `bytea`            |\n",
    "| Geometric/Network | `point`, `cidr`, `inet`             |\n",
    "| Custom            | `enum`, `composite`, `domain`       |\n",
    "\n",
    "✅ Use `jsonb` over `json` for indexing and performance.\n",
    "\n",
    "---"
   ]
  },
  {
   "cell_type": "markdown",
   "id": "f047fa31-9ac1-49c6-842a-43f722e970bd",
   "metadata": {},
   "source": [
    "## 🔑 4. **Schema Objects**\n",
    "\n",
    "| Object          | Description                                |\n",
    "| --------------- | ------------------------------------------ |\n",
    "| **Tables**      | Store data in rows                         |\n",
    "| **Indexes**     | Accelerate queries                         |\n",
    "| **Views**       | Stored SQL queries                         |\n",
    "| **Sequences**   | Auto-increment counters (used in `serial`) |\n",
    "| **Functions**   | Reusable code blocks                       |\n",
    "| **Triggers**    | Hooks before/after changes                 |\n",
    "| **Constraints** | Rules (e.g. `UNIQUE`, `CHECK`)             |\n",
    "\n",
    "---"
   ]
  },
  {
   "cell_type": "markdown",
   "id": "4a468751-04f6-4cdf-a822-e89767939263",
   "metadata": {},
   "source": [
    "## ⚙️ 5. **System Catalogs**\n",
    "\n",
    "All metadata is stored in system tables (prefixed with `pg_`).\n",
    "\n",
    "Examples:\n",
    "\n",
    "```sql\n",
    "SELECT * FROM pg_tables WHERE schemaname = 'public';\n",
    "SELECT * FROM pg_indexes WHERE tablename = 'my_table';\n",
    "```\n",
    "\n",
    "Useful views:\n",
    "\n",
    "* `information_schema.tables`\n",
    "* `pg_stat_activity`\n",
    "* `pg_locks`\n",
    "\n",
    "---"
   ]
  },
  {
   "cell_type": "markdown",
   "id": "07de7a84-2a69-43bf-bbd5-35f280290a84",
   "metadata": {},
   "source": [
    "## 📈 6. **Index Types**\n",
    "\n",
    "| Index Type    | Use Case                            |\n",
    "| ------------- | ----------------------------------- |\n",
    "| **B-tree**    | Default, great for equality/range   |\n",
    "| **Hash**      | Fast equality checks (less used)    |\n",
    "| **GIN**       | Full-text search, `jsonb`, arrays   |\n",
    "| **GiST**      | Geospatial or custom indexing       |\n",
    "| **BRIN**      | Very large tables with ordered data |\n",
    "| **Partial**   | Only for subset of rows             |\n",
    "| **Composite** | Index on multiple columns           |\n",
    "\n",
    "```sql\n",
    "CREATE INDEX idx_name ON table(column);\n",
    "CREATE INDEX idx_gin ON documents USING gin(jsonb_column);\n",
    "```\n",
    "\n",
    "---"
   ]
  },
  {
   "cell_type": "markdown",
   "id": "8933482a-5b98-427f-8422-8801d88da3e8",
   "metadata": {},
   "source": [
    "## 🧰 7. **Constraints & Relationships**\n",
    "\n",
    "| Constraint    | Purpose                                  |\n",
    "| ------------- | ---------------------------------------- |\n",
    "| `PRIMARY KEY` | Uniquely identifies a row                |\n",
    "| `FOREIGN KEY` | Enforces relationships                   |\n",
    "| `UNIQUE`      | Ensures values are unique                |\n",
    "| `CHECK`       | Validates conditions (`CHECK (age > 0)`) |\n",
    "| `NOT NULL`    | Column must have a value                 |\n",
    "\n",
    "Relational example:\n",
    "\n",
    "```sql\n",
    "CREATE TABLE users (\n",
    "  id SERIAL PRIMARY KEY,\n",
    "  email TEXT UNIQUE\n",
    ");\n",
    "\n",
    "CREATE TABLE orders (\n",
    "  id SERIAL PRIMARY KEY,\n",
    "  user_id INT REFERENCES users(id)\n",
    ");\n",
    "```\n",
    "\n",
    "---"
   ]
  },
  {
   "cell_type": "markdown",
   "id": "6873f236-d7d2-42ad-a164-6b4f1904fcb8",
   "metadata": {},
   "source": [
    "## 🔄 8. **Views vs Materialized Views**\n",
    "\n",
    "| Type              | Description              |\n",
    "| ----------------- | ------------------------ |\n",
    "| View              | Virtual table (dynamic)  |\n",
    "| Materialized View | Cached, can be refreshed |\n",
    "\n",
    "```sql\n",
    "CREATE MATERIALIZED VIEW recent_orders AS\n",
    "SELECT * FROM orders WHERE created_at > NOW() - interval '7 days';\n",
    "```\n",
    "\n",
    "---"
   ]
  },
  {
   "cell_type": "markdown",
   "id": "edcda569-25e1-4835-9ee0-2b02638f760c",
   "metadata": {},
   "source": [
    "## 🚀 9. **Advanced Features**\n",
    "\n",
    "| Feature                       | Benefit                        |\n",
    "| ----------------------------- | ------------------------------ |\n",
    "| `jsonb`                       | Semi-structured data           |\n",
    "| `ARRAY`                       | Native array support           |\n",
    "| `CTE (WITH)`                  | Reusable subqueries            |\n",
    "| `Window Functions`            | Running totals, rankings       |\n",
    "| `Partitioning`                | Scale large tables efficiently |\n",
    "| `Inheritance`                 | Table OOP-style extension      |\n",
    "| `Foreign Data Wrappers (FDW)` | Query other databases/files    |\n",
    "\n",
    "Example:\n",
    "\n",
    "```sql\n",
    "SELECT name, AVG(score) OVER (PARTITION BY subject) FROM results;\n",
    "```\n",
    "\n",
    "---"
   ]
  },
  {
   "cell_type": "markdown",
   "id": "c98358f3-5ee6-4e4d-a07c-e69444d5cf3e",
   "metadata": {},
   "source": [
    "## 📊 10. **Monitoring and Performance**\n",
    "\n",
    "| Tool or View         | Purpose                       |\n",
    "| -------------------- | ----------------------------- |\n",
    "| `pg_stat_activity`   | See current queries           |\n",
    "| `pg_stat_statements` | Track slow queries            |\n",
    "| `EXPLAIN ANALYZE`    | Query plan + execution timing |\n",
    "| `VACUUM`             | Clean up dead tuples          |\n",
    "| `autovacuum`         | Automatic garbage collection  |\n",
    "\n",
    "```sql\n",
    "EXPLAIN ANALYZE SELECT * FROM large_table WHERE id = 1000;\n",
    "```\n",
    "\n",
    "---"
   ]
  },
  {
   "cell_type": "markdown",
   "id": "e492bdb9-532b-4915-a073-b3a2e41b82d8",
   "metadata": {},
   "source": [
    "## 🔐 11. **Security Structure**\n",
    "\n",
    "| Element       | Purpose                                   |\n",
    "| ------------- | ----------------------------------------- |\n",
    "| Roles & Users | Role-based access control (`CREATE ROLE`) |\n",
    "| Privileges    | `GRANT SELECT ON table TO analyst;`       |\n",
    "| Row-Level Sec | `CREATE POLICY` for per-user filtering    |\n",
    "| Encryption    | TLS + `pgcrypto`                          |\n",
    "\n",
    "---"
   ]
  },
  {
   "cell_type": "markdown",
   "id": "f5f0fe05-a41c-4863-a1da-7739768af6b4",
   "metadata": {},
   "source": [
    "## 🌍 12. **Extension Ecosystem**\n",
    "\n",
    "| Extension     | Use Case                      |\n",
    "| ------------- | ----------------------------- |\n",
    "| `postgis`     | Geospatial types and queries  |\n",
    "| `pg_trgm`     | Text similarity, fuzzy search |\n",
    "| `uuid-ossp`   | UUID generation               |\n",
    "| `citext`      | Case-insensitive text         |\n",
    "| `timescaledb` | Time-series data              |\n",
    "| `pg_partman`  | Partition management          |\n",
    "\n",
    "```sql\n",
    "CREATE EXTENSION IF NOT EXISTS postgis;\n",
    "```\n",
    "\n",
    "---"
   ]
  },
  {
   "cell_type": "markdown",
   "id": "cda4f00a-6b29-4d30-8cdf-0a4394057172",
   "metadata": {},
   "source": [
    "## 🔄 13. **Backup, Restore, and Migrations**\n",
    "\n",
    "| Tool                            | Use Case                       |\n",
    "| ------------------------------- | ------------------------------ |\n",
    "| `pg_dump`                       | Dump single DB                 |\n",
    "| `pg_restore`                    | Restore from `.dump` or `.sql` |\n",
    "| `pg_basebackup`                 | Entire cluster backup          |\n",
    "| `psql`                          | Interactive SQL shell          |\n",
    "| `alembic` / `django-migrations` | Schema evolution               |\n",
    "\n",
    "---"
   ]
  },
  {
   "cell_type": "markdown",
   "id": "f39f0d0d-0ffb-4454-9ac5-4b4829782d94",
   "metadata": {},
   "source": [
    "## 📌 Summary Table\n",
    "\n",
    "| Category    | Key Concepts                                       |\n",
    "| ----------- | -------------------------------------------------- |\n",
    "| Structure   | Cluster → DB → Schema → Tables                     |\n",
    "| Data Types  | Rich: JSONB, ARRAY, GEOMETRY                       |\n",
    "| Indexes     | B-Tree, GIN, BRIN, Composite                       |\n",
    "| Features    | CTEs, Views, Partitions, Extensions                |\n",
    "| Performance | VACUUM, ANALYZE, EXPLAIN                           |\n",
    "| Security    | Roles, RLS, TLS, Audit                             |\n",
    "| Tools       | `pg_dump`, `psql`, `pgadmin`, `pg_stat_statements` |\n",
    "\n"
   ]
  },
  {
   "cell_type": "code",
   "execution_count": null,
   "id": "87d9ab6a-e465-476d-b882-0cb86e6845b7",
   "metadata": {},
   "outputs": [],
   "source": []
  }
 ],
 "metadata": {
  "kernelspec": {
   "display_name": "python3",
   "language": "python",
   "name": "python3"
  }
 },
 "nbformat": 4,
 "nbformat_minor": 5
}
