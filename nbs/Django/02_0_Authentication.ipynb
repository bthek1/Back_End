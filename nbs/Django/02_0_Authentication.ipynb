{
 "cells": [
  {
   "cell_type": "markdown",
   "id": "9ec8e116-32fb-4dc1-8932-517fd59d3689",
   "metadata": {},
   "source": [
    "# Authentication\n",
    "\n",
    "> Django REST Framework (DRF) provides a robust and flexible authentication system to secure your API. Here’s an overview of everything you need to know about authentication in DRF:\n",
    "\n",
    "\n",
    "- skip_showdoc: true\n",
    "- skip_exec: true\n",
    "\n"
   ]
  },
  {
   "cell_type": "markdown",
   "id": "8a02afc0-1931-49fa-a487-f086ce92fc91",
   "metadata": {},
   "source": [
    "## 📘 Authentication in Django REST Framework (DRF)\n",
    "\n",
    "> 🔐 Authentication = *Who are you?*  \n",
    "> 🔓 Authorization = *Are you allowed to do this?*  \n",
    "\n",
    "DRF handles **authentication** via pluggable classes set in `REST_FRAMEWORK['DEFAULT_AUTHENTICATION_CLASSES']`.\n",
    "\n",
    "---"
   ]
  },
  {
   "cell_type": "markdown",
   "id": "e7f7f328-6478-44c7-b02f-584235cf2853",
   "metadata": {},
   "source": [
    "## 🧱 Built-in Authentication Classes in DRF\n",
    "\n",
    "| Class | Description | Use Case |\n",
    "|:---|:---|:---|\n",
    "| `SessionAuthentication` | Uses Django's session & CSRF cookies | Browser-based apps (Django templates) |\n",
    "| `BasicAuthentication` | Base64 username/password in header | Quick testing, not secure for production |\n",
    "| `TokenAuthentication` | Token in `Authorization: Token <token>` | Mobile apps, SPAs, API clients |\n",
    "| `JWTAuthentication` (via 3rd-party) | Token with expiry, stateless | Modern API design |\n",
    "| `RemoteUserAuthentication` | Uses `REMOTE_USER` env var | Enterprise intranet SSO |\n",
    "| `CustomAuthentication` | Your own class | Advanced integrations (mTLS, API keys, etc.) |\n",
    "\n",
    "---"
   ]
  },
  {
   "cell_type": "markdown",
   "id": "21ea4c36-6db5-4ba7-b92a-deaef0500834",
   "metadata": {},
   "source": [
    "## 🛠 Basic Setup\n",
    "\n",
    "In `settings.py`:\n",
    "\n",
    "```python\n",
    "REST_FRAMEWORK = {\n",
    "    'DEFAULT_AUTHENTICATION_CLASSES': [\n",
    "        'rest_framework.authentication.SessionAuthentication',\n",
    "        'rest_framework.authentication.TokenAuthentication',\n",
    "    ]\n",
    "}\n",
    "```\n",
    "\n",
    "This enables **both browser and API clients** to authenticate.\n",
    "\n",
    "---"
   ]
  },
  {
   "cell_type": "markdown",
   "id": "90662fc8-13bb-4055-89ad-27349b0637cd",
   "metadata": {},
   "source": [
    "## ✅ Common Auth Workflows\n",
    "\n",
    "| Type | User Experience | Use With |\n",
    "|:---|:---|:---|\n",
    "| **SessionAuth** | Log in through Django Admin or LoginView | Browsers |\n",
    "| **TokenAuth** | POST username+password → get token | Postman, scripts, apps |\n",
    "| **JWTAuth** | POST credentials → get access/refresh tokens | SPAs, mobile apps |\n",
    "| **API Keys** | Header with a static token | 3rd-party integrations |\n",
    "| **OAuth2 / SSO** | Login via Google, GitHub, etc. | SaaS, enterprise |\n",
    "\n",
    "---"
   ]
  },
  {
   "cell_type": "markdown",
   "id": "5230fc00-6020-4d8b-b8a1-52bb1695c0be",
   "metadata": {},
   "source": [
    "## 🔑 Token Authentication (Built-in)\n",
    "\n",
    "1. Add `'rest_framework.authtoken'` to `INSTALLED_APPS`\n",
    "2. Run `python manage.py migrate`\n",
    "3. Add login view:\n",
    "\n",
    "```python\n",
    "from rest_framework.authtoken.views import obtain_auth_token\n",
    "\n",
    "urlpatterns = [\n",
    "    path('api/token/', obtain_auth_token),\n",
    "]\n",
    "```\n",
    "\n",
    "4. Use it:\n",
    "\n",
    "```bash\n",
    "POST /api/token/\n",
    "{ \"username\": \"user\", \"password\": \"pass\" }\n",
    "\n",
    "# Response:\n",
    "{ \"token\": \"abc123\" }\n",
    "\n",
    "# Then use:\n",
    "Authorization: Token abc123\n",
    "```\n",
    "\n",
    "---"
   ]
  },
  {
   "cell_type": "markdown",
   "id": "2dd88e28-105b-46a2-a502-81d8443c67e7",
   "metadata": {},
   "source": [
    "## 🔐 JWT Authentication (Recommended for APIs)\n",
    "\n",
    "1. Install SimpleJWT:\n",
    "\n",
    "```bash\n",
    "pip install djangorestframework-simplejwt\n",
    "```\n",
    "\n",
    "2. Add to `settings.py`:\n",
    "\n",
    "```python\n",
    "REST_FRAMEWORK = {\n",
    "    'DEFAULT_AUTHENTICATION_CLASSES': [\n",
    "        'rest_framework_simplejwt.authentication.JWTAuthentication',\n",
    "    ]\n",
    "}\n",
    "\n",
    "from datetime import timedelta\n",
    "SIMPLE_JWT = {\n",
    "    'ACCESS_TOKEN_LIFETIME': timedelta(minutes=30),\n",
    "    'REFRESH_TOKEN_LIFETIME': timedelta(days=7),\n",
    "}\n",
    "```\n",
    "\n",
    "3. Add routes:\n",
    "\n",
    "```python\n",
    "from rest_framework_simplejwt.views import TokenObtainPairView, TokenRefreshView\n",
    "\n",
    "urlpatterns = [\n",
    "    path('api/token/', TokenObtainPairView.as_view()),\n",
    "    path('api/token/refresh/', TokenRefreshView.as_view()),\n",
    "]\n",
    "```\n",
    "\n",
    "✅ Usage:\n",
    "\n",
    "```bash\n",
    "POST /api/token/ → get { access, refresh }\n",
    "Authorization: Bearer <access>\n",
    "```\n",
    "\n",
    "---"
   ]
  },
  {
   "cell_type": "markdown",
   "id": "d3f8fabb-7b5d-49a7-990d-6bfefbd24e0c",
   "metadata": {},
   "source": [
    "## 🧠 Custom Authentication\n",
    "\n",
    "Make a custom class if you want to:\n",
    "- Use `X-API-Key` headers\n",
    "- Authenticate based on certificate (mTLS)\n",
    "- Add throttling per user type\n",
    "\n",
    "Example:\n",
    "\n",
    "```python\n",
    "from rest_framework.authentication import BaseAuthentication\n",
    "\n",
    "class CustomTokenAuth(BaseAuthentication):\n",
    "    def authenticate(self, request):\n",
    "        token = request.headers.get('X-Api-Key')\n",
    "        if token == \"expected_token\":\n",
    "            return (MyUserObject, None)\n",
    "        return None\n",
    "```\n",
    "\n",
    "---"
   ]
  },
  {
   "cell_type": "markdown",
   "id": "7ad4c7f4-64e1-4dfc-81d9-32a9933f2e87",
   "metadata": {},
   "source": [
    "## 🔐 Login via Session + CSRF (For Browsers)\n",
    "\n",
    "- Requires logging in via Django LoginView or Admin\n",
    "- Automatically sends `sessionid` cookie\n",
    "- Must include CSRF token in all modifying requests\n",
    "\n",
    "Good for:\n",
    "- Internal admin views\n",
    "- API browsable interface (`/api/` with DRF)\n",
    "\n",
    "---"
   ]
  },
  {
   "cell_type": "markdown",
   "id": "06d49211-fb76-4df7-9fa0-9db2380d0413",
   "metadata": {},
   "source": [
    "## 🔒 Permissions (AuthZ, not AuthN)\n",
    "\n",
    "Once the user is authenticated, **permissions** check whether they can do something:\n",
    "\n",
    "| Class | Description |\n",
    "|:---|:---|\n",
    "| `AllowAny` | Open to everyone |\n",
    "| `IsAuthenticated` | Only logged-in users |\n",
    "| `IsAdminUser` | Only superusers |\n",
    "| `IsAuthenticatedOrReadOnly` | Anyone can read, only authed can write |\n",
    "| Custom | `has_permission(self, request, view)` logic |\n",
    "\n",
    "Used in your views like:\n",
    "\n",
    "```python\n",
    "class MyViewSet(viewsets.ModelViewSet):\n",
    "    permission_classes = [IsAuthenticated]\n",
    "```\n",
    "\n",
    "---"
   ]
  },
  {
   "cell_type": "markdown",
   "id": "64b721bf-43c5-4e5b-9e4d-e7b1670fe411",
   "metadata": {},
   "source": [
    "## 🔁 Session vs Token vs JWT (Comparison)\n",
    "\n",
    "| Feature | SessionAuth | TokenAuth | JWT |\n",
    "|:---|:---|:---|:---|\n",
    "| Cookie-based? | ✅ Yes | ❌ No | ❌ No |\n",
    "| Header-based? | ❌ No | ✅ Yes | ✅ Yes |\n",
    "| Expiry Support | Manual | Manual | ✅ Built-in |\n",
    "| Stateless? | ❌ No | ✅ Yes | ✅ Yes |\n",
    "| Best For | Web apps | Simple API clients | Production-grade APIs |\n",
    "\n",
    "---"
   ]
  },
  {
   "cell_type": "markdown",
   "id": "73628487-7d4a-4322-98ff-18b7304e6f9c",
   "metadata": {},
   "source": [
    "## 🔐 Example: Login with JWT and Use API\n",
    "\n",
    "```bash\n",
    "# Login\n",
    "curl -X POST /api/token/ \\\n",
    "  -H \"Content-Type: application/json\" \\\n",
    "  -d '{\"email\": \"you@example.com\", \"password\": \"pass\"}'\n",
    "\n",
    "# Response:\n",
    "{\n",
    "  \"access\": \"ey...\",\n",
    "  \"refresh\": \"ey...\"\n",
    "}\n",
    "\n",
    "# Use it\n",
    "curl -H \"Authorization: Bearer ey...\" /api/clients/\n",
    "```\n",
    "\n",
    "---"
   ]
  },
  {
   "cell_type": "markdown",
   "id": "29cb690e-b52b-44fa-bad2-2725baafea85",
   "metadata": {},
   "source": [
    "## 🔄 Refresh Tokens (JWT)\n",
    "\n",
    "When access token expires, use refresh:\n",
    "\n",
    "```bash\n",
    "POST /api/token/refresh/\n",
    "{\n",
    "  \"refresh\": \"ey...\"\n",
    "}\n",
    "```\n",
    "\n",
    "Get a **new access token** without re-logging in.\n",
    "\n",
    "---"
   ]
  },
  {
   "cell_type": "markdown",
   "id": "81ba871e-fa34-4fd0-a294-3d5ab3d1c65b",
   "metadata": {},
   "source": [
    "## 🔐 Advanced Use Cases\n",
    "\n",
    "| Feature | Use |\n",
    "|:---|:---|\n",
    "| API key for 3rd parties | Custom auth class, or use [drf-api-key](https://github.com/florimondmanca/djangorest-framework-api-key) |\n",
    "| Service accounts | Create special users, assign static tokens |\n",
    "| mTLS authentication | Terminate TLS at Nginx/LB, forward identity headers |\n",
    "| OAuth2 | Use `django-allauth`, `django-oauth-toolkit` |\n",
    "\n",
    "---"
   ]
  },
  {
   "cell_type": "markdown",
   "id": "4171d2db-4f1f-4960-b44a-996aea2f56e5",
   "metadata": {},
   "source": [
    "## 🧠 Diagram: DRF Auth Flow (JWT)\n",
    "\n",
    "```plaintext\n",
    "[Client]\n",
    "  |\n",
    "  | -- POST /api/token/  -->  [DRF Login View]\n",
    "  | <-- {access, refresh}\n",
    "  |\n",
    "  | -- GET /api/data/  (Authorization: Bearer <access>)\n",
    "  | --> DRF checks JWT -> decodes -> authenticates user\n",
    "```\n",
    "\n",
    "---"
   ]
  },
  {
   "cell_type": "markdown",
   "id": "74c61639-b7bd-41c1-8c6a-18a61bd41909",
   "metadata": {},
   "source": [
    "## ✅ Summary Cheat Sheet\n",
    "\n",
    "| Concept | You Should Know |\n",
    "|:---|:---|\n",
    "| DRF supports multiple auth systems | ✅ Use `DEFAULT_AUTHENTICATION_CLASSES` |\n",
    "| Token vs JWT | JWT is stateless + has expiry |\n",
    "| SessionAuth | Great for browser use, requires CSRF |\n",
    "| JWTAuth | Best for API use (SPAs, mobile) |\n",
    "| Permissions are separate from auth | Use `permission_classes` |\n",
    "\n",
    "---"
   ]
  }
 ],
 "metadata": {
  "kernelspec": {
   "display_name": "python3",
   "language": "python",
   "name": "python3"
  },
  "widgets": {
   "application/vnd.jupyter.widget-state+json": {
    "state": {},
    "version_major": 2,
    "version_minor": 0
   }
  }
 },
 "nbformat": 4,
 "nbformat_minor": 5
}
