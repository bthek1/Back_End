{
 "cells": [
  {
   "cell_type": "markdown",
   "id": "254bb896-c0fe-42cc-8bee-5fefb0e54a20",
   "metadata": {},
   "source": [
    "# Migrations\n",
    "\n",
    "> Migrations are Django's way of handling database schema changes. They allow you to create, modify, and delete database tables and fields **without losing data**.\n",
    "\n",
    "- skip_showdoc: true\n",
    "- skip_exec: true"
   ]
  },
  {
   "cell_type": "markdown",
   "id": "cf436ed6-10f3-434a-b622-8eb2d290cf19",
   "metadata": {},
   "source": [
    "## **🔹 1. Understanding Migrations**\n",
    "\n",
    "Migrations are:\n",
    "\n",
    "* **Auto-generated files** that store changes to your models.\n",
    "* **Applied to the database** to create/update/delete tables and fields.\n",
    "* **Version-controlled** so changes can be tracked over time.\n",
    "* **State-aware**: Django keeps both a **model state** (from migration files) and a **DB state** (via the `django_migrations` table).\n",
    "\n",
    "They **ensure consistency** between the database and Django models.\n",
    "\n",
    "---"
   ]
  },
  {
   "cell_type": "markdown",
   "id": "e562a461-9d9f-454d-89eb-c3e21f397ffe",
   "metadata": {},
   "source": [
    "## **🔹 2. Key Migration Commands**\n",
    "\n",
    "| **Command**                                            | **Description**                                          |\n",
    "| ------------------------------------------------------ | -------------------------------------------------------- |\n",
    "| `python manage.py makemigrations`                      | Generates migration files based on model changes.        |\n",
    "| `python manage.py migrate`                             | Applies migrations to the database.                      |\n",
    "| `python manage.py showmigrations`                      | Displays a list of applied and unapplied migrations.     |\n",
    "| `python manage.py sqlmigrate <app> <migration_number>` | Shows the raw SQL for a migration.                       |\n",
    "| `python manage.py migrate <app> zero`                  | Rolls back all migrations for an app.                    |\n",
    "| `python manage.py makemigrations --dry-run --check`    | Check if new migrations are needed (CI safe).            |\n",
    "| `python manage.py migrate --plan`                      | Preview what will run in order.                          |\n",
    "| `python manage.py migrate --fake-initial`              | Mark initial migrations as applied without running them. |\n",
    "| `python manage.py makemigrations --merge`              | Merge conflicting migration histories.                   |\n",
    "\n",
    "---"
   ]
  },
  {
   "cell_type": "markdown",
   "id": "48dbadee-7a60-4810-bd4d-1c3b155e8b4e",
   "metadata": {},
   "source": [
    "## **🔹 3. How Migrations Work**\n",
    "\n",
    "1. **Detect model changes** → `makemigrations` generates migration files (operations).\n",
    "2. **Migration files form a DAG** → dependencies define order.\n",
    "3. **Apply with `migrate`** → runs SQL + records applied migrations in `django_migrations`.\n",
    "4. **State sync** → Django assumes DB matches its recorded state.\n",
    "\n",
    "👉 Drift (manual DB edits) breaks this. Use `--fake`, `SeparateDatabaseAndState`, or fresh migrations to realign.\n",
    "\n",
    "---"
   ]
  },
  {
   "cell_type": "markdown",
   "id": "afdb84b3-bb5c-4e1a-a908-45d69e7a7dee",
   "metadata": {},
   "source": [
    "## **🔹 4. Common Migration Operations**\n",
    "\n",
    "* `CreateModel` → new table\n",
    "* `AddField` → new column (with `default` or `null=True`)\n",
    "* `RenameField` / `RenameModel` → keeps data\n",
    "* `RemoveField` → drops column\n",
    "* `AlterField` → type/option changes (may warn if risky)\n",
    "* `RunPython` / `RunSQL` → data or schema logic\n",
    "* `AddIndex`, `AddConstraint`, `CreateExtension` (Postgres-specific)\n",
    "\n",
    "✅ Django usually **detects renames vs. add/remove** if done in isolation.\n",
    "\n",
    "---"
   ]
  },
  {
   "cell_type": "markdown",
   "id": "f5be3619-e3bd-4b87-a213-560e5187acd8",
   "metadata": {},
   "source": [
    "## **🔹 5. Rolling Back Migrations**\n",
    "\n",
    "* To a previous migration:\n",
    "\n",
    "  ```bash\n",
    "  python manage.py migrate app_name 0002\n",
    "  ```\n",
    "* Reset an app:\n",
    "\n",
    "  ```bash\n",
    "  python manage.py migrate app_name zero\n",
    "  ```\n",
    "* Fake back:\n",
    "\n",
    "  ```bash\n",
    "  python manage.py migrate app_name 0005 --fake\n",
    "  ```\n",
    "\n",
    "---"
   ]
  },
  {
   "cell_type": "markdown",
   "id": "785b7a3c-3915-4947-964b-1064aef4b0c8",
   "metadata": {},
   "source": [
    "## **🔹 6. Handling Migration Issues**\n",
    "\n",
    "| **Issue**                | **Fix**                                    |\n",
    "| ------------------------ | ------------------------------------------ |\n",
    "| Missing migrations error | Run `makemigrations` + `migrate`           |\n",
    "| Table already exists     | `migrate --fake-initial`                   |\n",
    "| FK constraint fails      | Ensure related app migrated first          |\n",
    "| Corrupt migration        | Roll back → delete bad file → regenerate   |\n",
    "| Drift (manual DB change) | Use `SeparateDatabaseAndState` or `--fake` |\n",
    "\n",
    "---"
   ]
  },
  {
   "cell_type": "markdown",
   "id": "3c767a57-9599-4ed0-8120-9df1d57f023a",
   "metadata": {},
   "source": [
    "## **🔹 7. State-only vs DB-only Migrations**\n",
    "\n",
    "Use `SeparateDatabaseAndState`:\n",
    "\n",
    "```python\n",
    "migrations.SeparateDatabaseAndState(\n",
    "    database_operations=[],\n",
    "    state_operations=[\n",
    "        migrations.RenameField(\"customer\", \"name\", \"full_name\")\n",
    "    ]\n",
    ")\n",
    "```\n",
    "\n",
    "👉 Useful when the DB is already correct, but Django’s state is not (or vice versa).\n",
    "\n",
    "---"
   ]
  },
  {
   "cell_type": "markdown",
   "id": "508cc340-6e15-49be-9dee-9fdda07fa39d",
   "metadata": {},
   "source": [
    "## **🔹 8. Large Tables & Zero-Downtime**\n",
    "\n",
    "* **Add column**: always nullable or with default.\n",
    "* **Two-step change for non-null**:\n",
    "\n",
    "  1. Add nullable → backfill → update app code to write both.\n",
    "  2. Make column required → drop old.\n",
    "* **Indexes**:\n",
    "\n",
    "  ```python\n",
    "  from django.contrib.postgres.operations import CreateIndexConcurrently\n",
    "  class Migration(migrations.Migration):\n",
    "      atomic = False\n",
    "      operations = [\n",
    "          CreateIndexConcurrently(\n",
    "              model_name=\"order\",\n",
    "              index=models.Index(fields=[\"created_at\"], name=\"order_created_idx\")\n",
    "          )\n",
    "      ]\n",
    "  ```\n",
    "* **Set `atomic = False`** if long ops (Postgres concurrent indexes can’t run in a transaction).\n",
    "\n",
    "---"
   ]
  },
  {
   "cell_type": "markdown",
   "id": "b51851b1-17c6-45c4-a1a7-578b8a5e05b9",
   "metadata": {},
   "source": [
    "## **🔹 9. Migrating Models Between Apps**\n",
    "\n",
    "1. Keep same DB table via `db_table`.\n",
    "2. Run `makemigrations app_b`.\n",
    "3. Apply with `--fake-initial`.\n",
    "\n",
    "👉 Ensures Django points at the new app, but DB untouched.\n",
    "\n",
    "---"
   ]
  },
  {
   "cell_type": "markdown",
   "id": "6a2c5a19-0bbf-4294-825a-e94a6948ba22",
   "metadata": {},
   "source": [
    "## **🔹 10. Custom Data Migrations**\n",
    "\n",
    "```python\n",
    "def forwards(apps, schema_editor):\n",
    "    Product = apps.get_model(\"shop\", \"Product\")\n",
    "    Product.objects.filter(category=\"\").update(category=\"General\")\n",
    "\n",
    "def backwards(apps, schema_editor):\n",
    "    Product = apps.get_model(\"shop\", \"Product\")\n",
    "    Product.objects.update(category=\"\")\n",
    "\n",
    "class Migration(migrations.Migration):\n",
    "    operations = [migrations.RunPython(forwards, backwards)]\n",
    "```\n",
    "\n",
    "⚠️ Always use `apps.get_model` (historical models), never direct imports.\n",
    "\n",
    "---"
   ]
  },
  {
   "cell_type": "markdown",
   "id": "352980f8-14d7-4059-b4e9-aaf9986a574b",
   "metadata": {},
   "source": [
    "## **🔹 11. Squashing & Merging**\n",
    "\n",
    "* **Squash long histories**:\n",
    "\n",
    "  ```bash\n",
    "  python manage.py squashmigrations app 0001 0050\n",
    "  ```\n",
    "* **Merge conflicts**:\n",
    "\n",
    "  ```bash\n",
    "  python manage.py makemigrations --merge\n",
    "  ```\n",
    "\n",
    "---"
   ]
  },
  {
   "cell_type": "markdown",
   "id": "1809c2fe-13bb-4693-8cfa-967d4c5c090a",
   "metadata": {},
   "source": [
    "## **🔹 12. Best Practices**\n",
    "\n",
    "| ✅ Do                          | ❌ Avoid                              |\n",
    "| ----------------------------- | ------------------------------------ |\n",
    "| Commit migration files        | Ignoring migrations in VCS           |\n",
    "| Use `--check --dry-run` in CI | Editing old migrations after release |\n",
    "| Review SQL with `sqlmigrate`  | Manual DB edits without aligning     |\n",
    "| Write reverse functions       | `RunPython` without rollback         |\n",
    "| Keep them small & atomic      | Huge multi-change migrations         |\n",
    "\n",
    "---"
   ]
  },
  {
   "cell_type": "markdown",
   "id": "6c999d2b-3bca-4c28-89ad-4ea71737bdc7",
   "metadata": {},
   "source": [
    "## **🔹 13. Quick Cheat Sheet**\n",
    "\n",
    "```bash\n",
    "# Generate migrations\n",
    "python manage.py makemigrations\n",
    "\n",
    "# Apply migrations\n",
    "python manage.py migrate\n",
    "\n",
    "# Roll back app\n",
    "python manage.py migrate app_name zero\n",
    "\n",
    "# Preview SQL\n",
    "python manage.py sqlmigrate app 0005\n",
    "\n",
    "# Preview plan\n",
    "python manage.py migrate --plan\n",
    "\n",
    "```"
   ]
  },
  {
   "cell_type": "code",
   "execution_count": null,
   "id": "b1a2accb-2e29-40ae-ba6b-6e3196b8c3c0",
   "metadata": {},
   "outputs": [],
   "source": []
  }
 ],
 "metadata": {
  "kernelspec": {
   "display_name": "python3",
   "language": "python",
   "name": "python3"
  }
 },
 "nbformat": 4,
 "nbformat_minor": 5
}
