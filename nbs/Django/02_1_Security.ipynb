{
 "cells": [
  {
   "cell_type": "markdown",
   "id": "a7f7eb88-d45a-4dec-b5f7-4965da4e75d0",
   "metadata": {},
   "source": [
    "# Security\n",
    "\n",
    "> Security is a critical aspect of any software development process. It involves implementing measures to protect software applications from threats and vulnerabilities. This includes secure coding practices, regular security audits, and using tools to identify and mitigate risks.\n",
    "\n",
    "\n",
    "- skip_showdoc: true\n",
    "- skip_exec: true\n"
   ]
  },
  {
   "cell_type": "markdown",
   "id": "332eec58-9792-4770-9efe-2ed4cafc3663",
   "metadata": {},
   "source": [
    "## 🔐 1. **Hashing**\n",
    "\n",
    "| Feature | Description |\n",
    "|--------|-------------|\n",
    "| What | One-way transformation of data |\n",
    "| Use Case | Secure password storage, file integrity checks |\n",
    "| Can be reversed? | ❌ No |\n",
    "| Common Algorithms | SHA-256, bcrypt, PBKDF2, Argon2 |\n",
    "\n",
    "### 🔧 Web Use\n",
    "- Store only the **hashed + salted** password (e.g. Django uses `PBKDF2` by default).\n",
    "- Never store plain passwords.\n",
    "- Validate with `check_password()`.\n",
    "\n",
    "---"
   ]
  },
  {
   "cell_type": "markdown",
   "id": "5c7e3684-487c-4e89-ae61-9ebe9b09ff2e",
   "metadata": {},
   "source": [
    "## 🔑 2. **Encryption**\n",
    "\n",
    "| Feature | Description |\n",
    "|--------|-------------|\n",
    "| What | Reversible encoding using a key |\n",
    "| Use Case | Secure transmission (HTTPS), data at rest |\n",
    "| Can be reversed? | ✅ Yes, with key |\n",
    "| Types | Symmetric (AES), Asymmetric (RSA) |\n",
    "\n",
    "### 🔧 Web Use\n",
    "- TLS/SSL encrypts HTTP traffic (HTTPS).\n",
    "- Encrypt sensitive database fields (e.g. card details) using Django-encrypted-fields or Fernet.\n",
    "\n",
    "---"
   ]
  },
  {
   "cell_type": "markdown",
   "id": "2c8e4f15-fce2-4936-98f3-0a8208355239",
   "metadata": {},
   "source": [
    "## 🔑 3. **Keys (Symmetric & Asymmetric)**\n",
    "\n",
    "| Type | Use | Example |\n",
    "|------|-----|--------|\n",
    "| Symmetric | Same key for encrypt/decrypt | AES |\n",
    "| Asymmetric | Public key encrypts, private key decrypts | RSA, HTTPS certificates |\n",
    "\n",
    "### 🔧 Web Use\n",
    "- HTTPS uses **TLS** with asymmetric keys to establish secure sessions.\n",
    "- JWTs are signed with private keys (asymmetric) or HMAC secrets (symmetric).\n",
    "\n",
    "---"
   ]
  },
  {
   "cell_type": "markdown",
   "id": "50ba9ce8-8bb9-4d2c-8f3e-14c3cada4fd6",
   "metadata": {},
   "source": [
    "## 🔄 4. **Authentication vs Authorization**\n",
    "\n",
    "| Term | Means | Example |\n",
    "|------|-------|---------|\n",
    "| **Authentication** | Verifying identity | Login form |\n",
    "| **Authorization** | Verifying access rights | Accessing admin page |\n",
    "\n",
    "---"
   ]
  },
  {
   "cell_type": "markdown",
   "id": "202e7bf7-cfaf-4a34-ba9f-52161535c369",
   "metadata": {},
   "source": [
    "## 🔐 5. **JWT (JSON Web Token)**\n",
    "\n",
    "- Compact, self-contained token used for **stateless authentication**.\n",
    "- Contains `header`, `payload`, and `signature`.\n",
    "\n",
    "### 🔧 Web Use\n",
    "- Used in APIs to authenticate users (`Authorization: Bearer <token>`).\n",
    "- Must be signed and verified with a secret.\n",
    "\n",
    "---"
   ]
  },
  {
   "cell_type": "markdown",
   "id": "01adb7bb-2fea-4275-a97d-7a5d551f6f00",
   "metadata": {},
   "source": [
    "## 🍪 6. **Cookies**\n",
    "\n",
    "| Attribute | Use |\n",
    "|----------|-----|\n",
    "| `HttpOnly` | JS cannot read (safer) |\n",
    "| `Secure` | Sent only over HTTPS |\n",
    "| `SameSite` | Protects from CSRF (`Lax` or `Strict`) |\n",
    "\n",
    "### 🔧 Web Use\n",
    "- Store session IDs or refresh tokens.\n",
    "- Set flags: `Secure`, `HttpOnly`, `SameSite=Lax`.\n",
    "\n",
    "---"
   ]
  },
  {
   "cell_type": "markdown",
   "id": "169d6a9c-6dc0-4f40-b605-b65322a684c7",
   "metadata": {},
   "source": [
    "## 🧪 7. **CSRF (Cross-Site Request Forgery)**\n",
    "\n",
    "| What | Attack where logged-in users are tricked into submitting unintended requests |\n",
    "| Prevent with | CSRF tokens, `SameSite` cookies, checking `Origin` headers |\n",
    "\n",
    "### 🔧 Web Use\n",
    "- Django includes CSRF protection out of the box.\n",
    "- You must use `{% csrf_token %}` in HTML forms.\n",
    "- Not needed for **stateless JWT APIs**.\n",
    "\n",
    "---"
   ]
  },
  {
   "cell_type": "markdown",
   "id": "b0066b79-702f-47e1-86d7-5384813c7960",
   "metadata": {},
   "source": [
    "## 🧼 8. **XSS (Cross-Site Scripting)**\n",
    "\n",
    "| What | Inject malicious JS into pages |\n",
    "| Types | Stored, Reflected, DOM |\n",
    "| Prevent with | Escaping output, input validation, Content Security Policy (CSP) |\n",
    "\n",
    "### 🔧 Web Use\n",
    "- Never render raw HTML from users.\n",
    "- Django auto-escapes `{{ variable }}`.\n",
    "\n",
    "---"
   ]
  },
  {
   "cell_type": "markdown",
   "id": "59c06ad0-e2ae-4dbe-b96f-9cfb25952e67",
   "metadata": {},
   "source": [
    "## 🌐 9. **CORS (Cross-Origin Resource Sharing)**\n",
    "\n",
    "| What | Controls which origins can access your API |\n",
    "| Prevents | Unauthorized frontend domains from calling your backend |\n",
    "| Headers | `Access-Control-Allow-Origin`, `Access-Control-Allow-Credentials` |\n",
    "\n",
    "### 🔧 Web Use\n",
    "- Use `django-cors-headers` to allow trusted origins (e.g., your React frontend).\n",
    "\n",
    "---"
   ]
  },
  {
   "cell_type": "markdown",
   "id": "100c5dc1-900a-4040-8458-9a61cd147077",
   "metadata": {},
   "source": [
    "## 🔐 10. **HTTPS and SSL/TLS**\n",
    "\n",
    "| What | Encrypts traffic between client and server |\n",
    "| Why | Prevents MITM (Man-in-the-Middle) attacks |\n",
    "| Implement with | TLS certificates (e.g., Let’s Encrypt) |\n",
    "\n",
    "### 🔧 Web Use\n",
    "- Use HTTPS in production.\n",
    "- Redirect all HTTP traffic to HTTPS.\n",
    "\n",
    "---"
   ]
  },
  {
   "cell_type": "markdown",
   "id": "6e1572cc-6f80-486b-837c-9ab661cae031",
   "metadata": {},
   "source": [
    "## 🚦 11. **Rate Limiting & Throttling**\n",
    "\n",
    "| What | Limits API usage per user/IP |\n",
    "| Prevents | Abuse, brute force, scraping |\n",
    "| Tools | Django Ratelimit, DRF throttling |\n",
    "\n",
    "### 🔧 Web Use\n",
    "```python\n",
    "REST_FRAMEWORK = {\n",
    "  'DEFAULT_THROTTLE_CLASSES': [\n",
    "    'rest_framework.throttling.UserRateThrottle',\n",
    "    'rest_framework.throttling.AnonRateThrottle',\n",
    "  ],\n",
    "  'DEFAULT_THROTTLE_RATES': {\n",
    "    'user': '1000/day',\n",
    "    'anon': '100/day',\n",
    "  }\n",
    "}\n",
    "```\n",
    "\n",
    "---"
   ]
  },
  {
   "cell_type": "markdown",
   "id": "748bbf49-ddb7-4259-abb5-632682a599da",
   "metadata": {},
   "source": [
    "## 🧾 12. **Secure HTTP Headers**\n",
    "\n",
    "| Header | Purpose |\n",
    "|--------|---------|\n",
    "| `X-Frame-Options: DENY` | Prevent clickjacking |\n",
    "| `X-Content-Type-Options: nosniff` | Stop MIME-type attacks |\n",
    "| `Content-Security-Policy` | Prevent inline scripts |\n",
    "| `Strict-Transport-Security` | Enforce HTTPS |\n",
    "\n",
    "### 🔧 Web Use\n",
    "- Use Django’s `SecurityMiddleware` and tools like `django-secure`.\n",
    "\n",
    "---"
   ]
  },
  {
   "cell_type": "markdown",
   "id": "1be4dfd4-50a7-4534-a5c3-6b438a31c803",
   "metadata": {},
   "source": [
    "## 🧠 13. **Security Practices for Web Developers**\n",
    "\n",
    "| Task | Best Practice |\n",
    "|------|---------------|\n",
    "| Store passwords | Use `make_password()` and `check_password()` (Django) |\n",
    "| Store secrets | Use `.env` files or secret managers (e.g., AWS SSM) |\n",
    "| Input validation | Validate both client and server-side |\n",
    "| Error handling | Don't expose stack traces to users |\n",
    "| Logging | Log auth failures, unusual access patterns |\n",
    "| Dependency checks | Use `pip-audit`, `safety` to check vulnerable packages |\n",
    "\n",
    "---"
   ]
  },
  {
   "cell_type": "markdown",
   "id": "9c7de991-7e80-4ad6-9273-2dfe4586110c",
   "metadata": {},
   "source": [
    "## ✅ Security Checklist Summary\n",
    "\n",
    "| Area | What to Do |\n",
    "|------|------------|\n",
    "| Passwords | Hash + salt |\n",
    "| Sessions | Secure cookies |\n",
    "| APIs | Use tokens (JWT, OAuth) |\n",
    "| CORS | Allow only trusted domains |\n",
    "| CSRF | Protect forms and cookies |\n",
    "| XSS | Escape output |\n",
    "| HTTPS | Use TLS and redirect HTTP |\n",
    "| Headers | Set security headers |\n",
    "| Secrets | Keep out of codebase |\n",
    "| Logs | Monitor failures + suspicious events |"
   ]
  },
  {
   "cell_type": "code",
   "execution_count": null,
   "id": "9955c1af-da67-4139-9c3b-aeb991c6a30a",
   "metadata": {},
   "outputs": [],
   "source": []
  }
 ],
 "metadata": {
  "kernelspec": {
   "display_name": "python3",
   "language": "python",
   "name": "python3"
  }
 },
 "nbformat": 4,
 "nbformat_minor": 5
}
