{
 "cells": [
  {
   "cell_type": "markdown",
   "id": "befe7c2b-d31b-4812-9c91-b34e862dd987",
   "metadata": {},
   "source": [
    "# Django Templates\n",
    "\n",
    "> Here are some great **Django starter templates** depending on what you're looking for: from barebones setups to full-stack SaaS platforms.\n",
    "\n",
    "- skip_showdoc: true\n",
    "- skip_exec: true\n",
    "\n"
   ]
  },
  {
   "cell_type": "markdown",
   "id": "827c54be-798e-4518-a7be-318358bb220d",
   "metadata": {},
   "source": [
    "## 🧱 1. **Minimal Django Starter**\n",
    "Perfect if you want to build from scratch.\n",
    "\n",
    "- **Repo**: [wsvincent/django-starter](https://github.com/wsvincent/django-starter)\n",
    "- **Features**:\n",
    "  - Django 4+\n",
    "  - `poetry` or `pip`\n",
    "  - Basic `settings.py` split (base, dev, prod)\n",
    "  - SQLite + optional PostgreSQL\n",
    "  - GitHub Actions for CI\n",
    "\n",
    "---"
   ]
  },
  {
   "cell_type": "markdown",
   "id": "1f2d14aa-466a-41fc-a9dd-9f2381be70ab",
   "metadata": {},
   "source": [
    "## 💻 2. **Django Cookiecutter**\n",
    "The most popular full-stack starter.\n",
    "\n",
    "- **Repo**: [cookiecutter/cookiecutter-django](https://github.com/cookiecutter/cookiecutter-django)\n",
    "- **Features**:\n",
    "  - Docker-ready\n",
    "  - ASGI/WSGI support\n",
    "  - Django Channels\n",
    "  - Celery + Redis\n",
    "  - PostgreSQL\n",
    "  - Whitenoise\n",
    "  - Gunicorn/Uvicorn\n",
    "  - Caddy/Nginx optional\n",
    "  - Production scripts + Terraform support\n",
    "\n",
    "⚙️ **Use:**\n",
    "```bash\n",
    "pip install cookiecutter\n",
    "cookiecutter https://github.com/cookiecutter/cookiecutter-django\n",
    "```\n",
    "\n",
    "---"
   ]
  },
  {
   "cell_type": "markdown",
   "id": "48f20aa9-d2ab-405e-a684-64ff27d959a3",
   "metadata": {},
   "source": [
    "## ⚡ 3. **Django React/Vue Starter Kits**\n",
    "\n",
    "### 🧩 Django + React\n",
    "- **Repo**: [justdjango/django-react-boilerplate](https://github.com/justdjango/django-react-boilerplate)\n",
    "- **Features**:\n",
    "  - Webpack + React frontend\n",
    "  - JWT Auth\n",
    "  - DRF backend\n",
    "\n",
    "### 🔧 Django + Vue\n",
    "- **Repo**: [gtalarico/django-vue-template](https://github.com/gtalarico/django-vue-template)\n",
    "- **Features**:\n",
    "  - Webpack + Vue\n",
    "  - DRF backend\n",
    "  - Hot-reloading\n",
    "  - SPA friendly\n",
    "\n",
    "---"
   ]
  },
  {
   "cell_type": "markdown",
   "id": "346b19a0-2903-46a3-b30a-de4a9ffb7099",
   "metadata": {},
   "source": [
    "## 🚀 4. **Django SaaS Boilerplates**\n",
    "\n",
    "### 🧠 [saasitive/django-saas-boilerplate](https://github.com/saasitive/django-saas-boilerplate)\n",
    "- Stripe subscriptions\n",
    "- Teams\n",
    "- Invitations\n",
    "- Docker\n",
    "- Tailwind + HTMX\n",
    "\n",
    "### 💼 [vintasoftware/django-react-boilerplate](https://github.com/vintasoftware/django-react-boilerplate)\n",
    "- Celery\n",
    "- Stripe\n",
    "- i18n\n",
    "- Full test coverage\n",
    "\n",
    "---"
   ]
  },
  {
   "cell_type": "markdown",
   "id": "5e987d43-cf9a-4148-882a-6eae71406ccc",
   "metadata": {},
   "source": [
    "## 🧪 5. **For Testing or Teaching**\n",
    "- [django-startproject](https://github.com/jpadilla/django-startproject)\n",
    "- [DjangoX by W.S. Vincent](https://github.com/wsvincent/djangox): for educational purposes, includes login/logout/register templates.\n",
    "\n",
    "---\n",
    "\n",
    "## ✅ Comparison Table\n",
    "\n",
    "| Template                        | Frontend | Docker | Async | Celery | DB     | Ideal For           |\n",
    "|---------------------------------|----------|--------|--------|--------|--------|---------------------|\n",
    "| cookiecutter-django             | Optional | ✅     | ✅     | ✅     | Postgres | Full Production Apps |\n",
    "| django-starter (Vincent)        | ❌        | ❌     | ❌     | ❌     | SQLite  | Minimal Setup        |\n",
    "| django-react-boilerplate        | React    | ✅     | ✅     | ✅     | Postgres | SPAs                |\n",
    "| saasitive django boilerplate    | HTMX     | ✅     | ✅     | ✅     | Postgres | SaaS Projects       |\n",
    "| django-vue-template             | Vue      | ✅     | ✅     | ❌     | SQLite  | SPAs                |\n",
    "\n"
   ]
  },
  {
   "cell_type": "code",
   "execution_count": null,
   "id": "f66d3ad4-35b2-461d-b495-8112b4d6e559",
   "metadata": {},
   "outputs": [],
   "source": []
  }
 ],
 "metadata": {
  "kernelspec": {
   "display_name": "python3",
   "language": "python",
   "name": "python3"
  }
 },
 "nbformat": 4,
 "nbformat_minor": 5
}
