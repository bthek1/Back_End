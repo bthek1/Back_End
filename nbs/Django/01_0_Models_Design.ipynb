{
 "cells": [
  {
   "cell_type": "markdown",
   "id": "9ec8e116-32fb-4dc1-8932-517fd59d3689",
   "metadata": {},
   "source": [
    "# Model Design\n",
    "\n",
    "> Model Design\n",
    "\n",
    "\n",
    "- skip_showdoc: true\n",
    "- skip_exec: true"
   ]
  },
  {
   "cell_type": "markdown",
   "id": "60beebe2-b508-4883-a6f1-20b7734594f6",
   "metadata": {},
   "source": [
    "## Basic Model Definition\n",
    "\n",
    "> Django models are defined as Python classes that inherit from `django.db.models.Model`. Each attribute of the class represents a database field."
   ]
  },
  {
   "cell_type": "markdown",
   "id": "b84b7abf-2a8e-41c3-98d4-75dec29ccdaa",
   "metadata": {},
   "source": [
    "```python\n",
    "from django.db import models\n",
    "\n",
    "class MyModel(models.Model):\n",
    "    my_field = models.CharField(max_length=100)\n",
    "    my_number = models.IntegerField()\n",
    "\n",
    "```"
   ]
  },
  {
   "cell_type": "markdown",
   "id": "bf952017-21c1-48c8-85e8-0d24a195a814",
   "metadata": {},
   "source": [
    "## Field Types\n",
    "\n",
    "> This is a comprehensive table of **Django model fields**, grouped by **category**, including their **parameters**, **description**, and **usage**.\n"
   ]
  },
  {
   "cell_type": "markdown",
   "id": "03993a23-478a-412c-8c73-3a8e1d24f298",
   "metadata": {},
   "source": [
    "\n",
    "### 🏗️ **Django Model Field Types**\n",
    "\n",
    "| **Field Type**             | **Field Class**               | **Description**                                              | **Common Arguments** |\n",
    "|----------------------------|-------------------------------|--------------------------------------------------------------|----------------------|\n",
    "| **AutoField**              | `models.AutoField`            | Auto-incrementing primary key (default for `id` fields).     | `primary_key` |\n",
    "| **BigAutoField**           | `models.BigAutoField`         | 64-bit auto-incrementing primary key.                       | `primary_key` |\n",
    "| **SmallAutoField**         | `models.SmallAutoField`       | Small integer auto-incrementing field.                      | `primary_key` |\n",
    "\n",
    "---\n",
    "\n",
    "### 📝 **Text-Based Fields**\n",
    "\n",
    "| **Field Type**             | **Field Class**               | **Description**                                              | **Common Arguments** |\n",
    "|----------------------------|-------------------------------|--------------------------------------------------------------|----------------------|\n",
    "| **CharField**              | `models.CharField`            | Fixed-length text field. Requires `max_length`.              | `max_length`, `blank`, `null`, `default` |\n",
    "| **TextField**              | `models.TextField`            | Variable-length, large text field.                          | `blank`, `null`, `default` |\n",
    "| **SlugField**              | `models.SlugField`            | Short label for URLs, typically used for slugs.              | `max_length`, `unique`, `blank` |\n",
    "| **EmailField**             | `models.EmailField`           | Text field that validates email addresses.                   | `max_length`, `blank`, `null` |\n",
    "| **URLField**               | `models.URLField`             | Validates URLs.                                               | `max_length`, `blank`, `null` |\n",
    "| **UUIDField**              | `models.UUIDField`            | Stores UUIDs as strings.                                     | `primary_key`, `default` |\n",
    "\n",
    "---\n",
    "\n",
    "### 🔢 **Numeric Fields**\n",
    "\n",
    "| **Field Type**             | **Field Class**               | **Description**                                              | **Common Arguments** |\n",
    "|----------------------------|-------------------------------|--------------------------------------------------------------|----------------------|\n",
    "| **IntegerField**           | `models.IntegerField`         | Integer values.                                              | `blank`, `null`, `default` |\n",
    "| **BigIntegerField**        | `models.BigIntegerField`      | 64-bit integer values.                                       | `blank`, `null`, `default` |\n",
    "| **PositiveIntegerField**   | `models.PositiveIntegerField` | Positive integers only.                                      | `blank`, `null`, `default` |\n",
    "| **PositiveSmallIntegerField** | `models.PositiveSmallIntegerField` | Small positive integers.                             | `blank`, `null`, `default` |\n",
    "| **SmallIntegerField**      | `models.SmallIntegerField`    | Small integer values.                                        | `blank`, `null`, `default` |\n",
    "| **FloatField**             | `models.FloatField`           | Floating-point numbers.                                      | `blank`, `null`, `default` |\n",
    "| **DecimalField**           | `models.DecimalField`         | Fixed-point decimal numbers (exact precision).               | `max_digits`, `decimal_places`, `blank`, `null` |\n",
    "\n",
    "---\n",
    "\n",
    "### 📅 **Date/Time Fields**\n",
    "\n",
    "| **Field Type**             | **Field Class**               | **Description**                                              | **Common Arguments** |\n",
    "|----------------------------|-------------------------------|--------------------------------------------------------------|----------------------|\n",
    "| **DateField**              | `models.DateField`            | Date (year, month, day).                                     | `auto_now`, `auto_now_add`, `blank`, `null` |\n",
    "| **TimeField**              | `models.TimeField`            | Time (hour, minute, second).                                 | `auto_now`, `auto_now_add`, `blank`, `null` |\n",
    "| **DateTimeField**          | `models.DateTimeField`        | Date and time combined.                                      | `auto_now`, `auto_now_add`, `blank`, `null` |\n",
    "| **DurationField**          | `models.DurationField`        | Stores periods of time (timedelta).                          | `blank`, `null` |\n",
    "\n",
    "---\n",
    "\n",
    "### 🎨 **File/Media Fields**\n",
    "\n",
    "| **Field Type**             | **Field Class**               | **Description**                                              | **Common Arguments** |\n",
    "|----------------------------|-------------------------------|--------------------------------------------------------------|----------------------|\n",
    "| **FileField**              | `models.FileField`            | Uploads files to a specified directory.                      | `upload_to`, `blank`, `null` |\n",
    "| **ImageField**             | `models.ImageField`           | Inherits from `FileField`, with image validation.            | `upload_to`, `blank`, `null` |\n",
    "\n",
    "---\n",
    "\n",
    "### ✅ **Boolean Fields**\n",
    "\n",
    "| **Field Type**             | **Field Class**               | **Description**                                              | **Common Arguments** |\n",
    "|----------------------------|-------------------------------|--------------------------------------------------------------|----------------------|\n",
    "| **BooleanField**           | `models.BooleanField`         | True/False values.                                           | `default` |\n",
    "| **NullBooleanField**       | `models.NullBooleanField`     | True/False/Null (deprecated in Django 3.1+).                | `default` |\n",
    "\n",
    "---\n",
    "\n",
    "### 🔗 **Relational Fields**\n",
    "\n",
    "| **Field Type**             | **Field Class**               | **Description**                                              | **Common Arguments** |\n",
    "|----------------------------|-------------------------------|--------------------------------------------------------------|----------------------|\n",
    "| **ForeignKey**             | `models.ForeignKey`           | Many-to-one relationship.                                    | `to`, `on_delete`, `related_name` |\n",
    "| **OneToOneField**          | `models.OneToOneField`        | One-to-one relationship.                                     | `to`, `on_delete`, `related_name` |\n",
    "| **ManyToManyField**        | `models.ManyToManyField`      | Many-to-many relationship.                                   | `to`, `related_name`, `through` |\n",
    "\n",
    "---\n",
    "\n",
    "### 📦 **Miscellaneous / Special Fields**\n",
    "\n",
    "| **Field Type**             | **Field Class**               | **Description**                                              | **Common Arguments** |\n",
    "|----------------------------|-------------------------------|--------------------------------------------------------------|----------------------|\n",
    "| **GenericIPAddressField**  | `models.GenericIPAddressField`| Stores IPv4 or IPv6 addresses.                               | `protocol`, `blank`, `null` |\n",
    "| **JSONField**              | `models.JSONField`            | Stores structured JSON data (Django 3.1+).                   | `default`, `blank`, `null` |\n",
    "\n",
    "---\n",
    "\n",
    "### ✅ **Arguments Explained (Quick Reference)**\n",
    "\n",
    "| **Argument**        | **Description**                                                             |\n",
    "|---------------------|-----------------------------------------------------------------------------|\n",
    "| `max_length`        | Maximum length of the field (required for `CharField` and `SlugField`).     |\n",
    "| `blank`             | Boolean; whether the field is allowed to be blank in forms.                 |\n",
    "| `null`              | Boolean; whether the field is allowed to be NULL in the database.           |\n",
    "| `default`           | Default value for the field.                                                |\n",
    "| `choices`           | Choices for limiting field values (e.g., for `CharField` or `IntegerField`).|\n",
    "| `primary_key`       | Boolean; whether the field is the primary key for the model.                |\n",
    "| `unique`            | Boolean; whether this field must be unique throughout the table.            |\n",
    "| `upload_to`         | Function or string to specify upload location (for `FileField`/`ImageField`). |\n",
    "| `auto_now`          | Boolean; updates field to `now()` every time the object is saved. (Date/Time) |\n",
    "| `auto_now_add`      | Boolean; sets field to `now()` when object is first created. (Date/Time)    |\n",
    "\n",
    "---\n",
    "\n",
    "### ✅ **Common Use Cases and Recommendations**\n",
    "\n",
    "| **Use Case**              | **Recommended Field**               |\n",
    "|---------------------------|-------------------------------------|\n",
    "| Text content              | `CharField`, `TextField`            |\n",
    "| Numeric data              | `IntegerField`, `DecimalField`      |\n",
    "| Timestamps                | `DateTimeField` with `auto_now_add` |\n",
    "| User-uploaded files       | `FileField`, `ImageField`           |\n",
    "| IP address logging        | `GenericIPAddressField`             |\n",
    "| JSON or dynamic settings  | `JSONField`                         |\n",
    "| UUID primary keys         | `UUIDField` with `primary_key=True` |\n",
    "| Foreign model relations   | `ForeignKey`, `OneToOneField`       |\n",
    "\n",
    "---\n",
    "\n",
    "### 🔨 **New Fields in Recent Django Versions**\n",
    "\n",
    "| **Version** | **Field**          | **Notes**                                               |\n",
    "|-------------|--------------------|---------------------------------------------------------|\n",
    "| Django 3.1  | `JSONField`        | Cross-database support (previously Postgres only)       |\n",
    "| Django 3.2+ | `BigAutoField`     | Default primary key field for new Django projects       |\n",
    "| Django 4.0  | `SmallAutoField`   | AutoField for small integers (optimizes small datasets) |\n",
    "\n",
    "---\n",
    "\n",
    "### ✅ **Summary Table by Category**\n",
    "\n",
    "| **Category**     | **Fields** |\n",
    "|------------------|------------|\n",
    "| **Text**         | `CharField`, `TextField`, `SlugField`, `EmailField`, `URLField`, `UUIDField` |\n",
    "| **Numeric**      | `IntegerField`, `FloatField`, `DecimalField`, `SmallIntegerField`, `BigIntegerField`, `PositiveIntegerField` |\n",
    "| **Date/Time**    | `DateField`, `TimeField`, `DateTimeField`, `DurationField` |\n",
    "| **Boolean**      | `BooleanField`, `NullBooleanField` |\n",
    "| **File/Media**   | `FileField`, `ImageField` |\n",
    "| **Relations**    | `ForeignKey`, `OneToOneField`, `ManyToManyField` |\n",
    "| **Special**      | `GenericIPAddressField`, `JSONField` |\n",
    "\n",
    "---"
   ]
  },
  {
   "cell_type": "markdown",
   "id": "6f7fa356-b81d-4acd-8da7-1d48a4fa6f9d",
   "metadata": {},
   "source": [
    "## Meta Options\n",
    "\n",
    "> Meta options are used to define model-level metadata, such as ordering, verbose names, and database table names."
   ]
  },
  {
   "cell_type": "markdown",
   "id": "9d4a1d46-9fac-4bb6-a854-da0252bbd759",
   "metadata": {},
   "source": [
    "```python\n",
    "class MyModel(models.Model):\n",
    "    my_field = models.CharField(max_length=100)\n",
    "\n",
    "    class Meta:\n",
    "        ordering = ['my_field']\n",
    "        verbose_name = 'My Model'\n",
    "        verbose_name_plural = 'My Models'\n",
    "\n",
    "```"
   ]
  },
  {
   "cell_type": "markdown",
   "id": "eba2ed31-fbcd-402a-9255-09b1e488f63e",
   "metadata": {},
   "source": [
    "## Model Relationships"
   ]
  },
  {
   "cell_type": "markdown",
   "id": "484500d2-bbe9-4a0f-a610-806b1972dc9d",
   "metadata": {},
   "source": [
    "Django ORM supports three types of relationships:\n",
    "- One-to-One (OneToOneField): Each instance of a model is related to one instance of another model.\n",
    "- Many-to-One (ForeignKey): Many instances of a model are related to one instance of another model.\n",
    "- Many-to-Many (ManyToManyField): Many instances of a model are related to many instances of another model.\n",
    "\n",
    "```python\n",
    "class Author(models.Model):\n",
    "    name = models.CharField(max_length=100)\n",
    "\n",
    "class Book(models.Model):\n",
    "    title = models.CharField(max_length=100)\n",
    "    author = models.ForeignKey(Author, on_delete=models.CASCADE)\n",
    "```"
   ]
  },
  {
   "cell_type": "markdown",
   "id": "d15fd466-4418-4ed2-9433-ef596004791f",
   "metadata": {},
   "source": [
    "## Field Options\n",
    "\n",
    "> Field options allow you to specify constraints and attributes for model fields."
   ]
  },
  {
   "cell_type": "markdown",
   "id": "45925b61-1e5b-4e9c-9d8b-dd3d398fe8f1",
   "metadata": {},
   "source": [
    "- max_length: Maximum length of the field (for CharField and TextField).\n",
    "- default: Default value for the field.\n",
    "- null: If True, Django will store empty values as NULL in the database.\n",
    "- blank: If True, the field is allowed to be blank.\n",
    "- choices: A list of valid choices for this field.\n",
    "- unique: If True, this field must be unique throughout the table."
   ]
  },
  {
   "cell_type": "markdown",
   "id": "c5ca70b5-0627-40f9-b95a-b651f013adae",
   "metadata": {},
   "source": [
    "## Model Methods\n",
    "\n",
    "> You can add methods to your model to encapsulate business logic or utility functions."
   ]
  },
  {
   "cell_type": "markdown",
   "id": "365a2bd6-8551-4a11-b3c1-92e27a6aba80",
   "metadata": {},
   "source": [
    "```python \n",
    "class Book(models.Model):\n",
    "    title = models.CharField(max_length=100)\n",
    "\n",
    "    def __str__(self):\n",
    "        return self.title\n",
    "\n",
    "    def get_absolute_url(self):\n",
    "        return f\"/books/{self.id}/\"\n",
    "```"
   ]
  },
  {
   "cell_type": "markdown",
   "id": "d68a8d7f-b955-4df9-8448-1af21278ac6c",
   "metadata": {},
   "source": [
    "## Custom Managers and QuerySets\n",
    "\n",
    "> Custom managers and querysets allow you to define reusable query logic."
   ]
  },
  {
   "cell_type": "markdown",
   "id": "370cfd2a-4d68-401d-afd1-eb59d01cef14",
   "metadata": {},
   "source": [
    "```python\n",
    "class BookManager(models.Manager):\n",
    "    def published(self):\n",
    "        return self.filter(published=True)\n",
    "\n",
    "class Book(models.Model):\n",
    "    title = models.CharField(max_length=100)\n",
    "    published = models.BooleanField(default=False)\n",
    "\n",
    "    objects = BookManager()\n",
    "\n",
    "```"
   ]
  },
  {
   "cell_type": "markdown",
   "id": "7cefbbed-105e-44b1-bb81-9011288b9d80",
   "metadata": {},
   "source": [
    "## Model Inheritance\n",
    "\n",
    "> Django supports model inheritance, allowing you to reuse common fields and methods."
   ]
  },
  {
   "cell_type": "markdown",
   "id": "f4db279a-b93a-42a7-a27e-051f35373faf",
   "metadata": {},
   "source": [
    "- Abstract Base Classes: Used when you want to put some common information into a base class.\n",
    "- Multi-table Inheritance: Each model in the hierarchy gets its own database table.\n",
    "- Proxy Models: Used to modify the Python-level behavior without changing the model's fields."
   ]
  },
  {
   "cell_type": "markdown",
   "id": "4950a6d9-ac67-4364-8a23-c1533961526b",
   "metadata": {},
   "source": [
    "```python\n",
    "class CommonInfo(models.Model):\n",
    "    name = models.CharField(max_length=100)\n",
    "    created_at = models.DateTimeField(auto_now_add=True)\n",
    "\n",
    "    class Meta:\n",
    "        abstract = True\n",
    "\n",
    "class Student(CommonInfo):\n",
    "    grade = models.CharField(max_length=2)\n",
    "\n",
    "```"
   ]
  },
  {
   "cell_type": "markdown",
   "id": "7d5fd8c6-c0f6-43c7-9f47-af2ed8951795",
   "metadata": {},
   "source": [
    "## Signals\n",
    "\n",
    "> Signals allow decoupled applications to get notified when certain actions occur (e.g., a model instance is saved or deleted)."
   ]
  },
  {
   "cell_type": "markdown",
   "id": "9aee9952-6314-4163-bf30-6bc41229b012",
   "metadata": {},
   "source": [
    "```python\n",
    "from django.db.models.signals import post_save\n",
    "from django.dispatch import receiver\n",
    "\n",
    "@receiver(post_save, sender=Book)\n",
    "def book_saved(sender, instance, **kwargs):\n",
    "    print(f\"Book saved: {instance.title}\")\n",
    "\n",
    "```"
   ]
  },
  {
   "cell_type": "markdown",
   "id": "86cf88cb-09a5-4336-aa3a-a623826a0b8d",
   "metadata": {},
   "source": [
    "## Model Validations\n",
    "\n",
    "> You can define custom validation logic within your model."
   ]
  },
  {
   "cell_type": "markdown",
   "id": "86959f6e-9e83-47f5-bc3b-cc30da678d71",
   "metadata": {},
   "source": [
    "```python\n",
    "class Book(models.Model):\n",
    "    title = models.CharField(max_length=100)\n",
    "    publication_date = models.DateField()\n",
    "\n",
    "    def clean(self):\n",
    "        if self.publication_date > datetime.date.today():\n",
    "            raise ValidationError('Publication date cannot be in the future.')\n",
    "\n",
    "```"
   ]
  },
  {
   "cell_type": "code",
   "execution_count": null,
   "id": "725f02ba-6646-4308-a38c-fdb452f92544",
   "metadata": {},
   "outputs": [],
   "source": []
  }
 ],
 "metadata": {
  "kernelspec": {
   "display_name": "python3",
   "language": "python",
   "name": "python3"
  },
  "widgets": {
   "application/vnd.jupyter.widget-state+json": {
    "state": {},
    "version_major": 2,
    "version_minor": 0
   }
  }
 },
 "nbformat": 4,
 "nbformat_minor": 5
}
